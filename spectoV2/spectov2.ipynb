{
 "cells": [
  {
   "cell_type": "code",
   "execution_count": 1,
   "id": "149b02a0",
   "metadata": {
    "_cell_guid": "b1076dfc-b9ad-4769-8c92-a6c4dae69d19",
    "_uuid": "8f2839f25d086af736a60e9eeb907d3b93b6e0e5",
    "execution": {
     "iopub.execute_input": "2024-07-11T11:06:53.071649Z",
     "iopub.status.busy": "2024-07-11T11:06:53.071231Z",
     "iopub.status.idle": "2024-07-11T11:07:10.625131Z",
     "shell.execute_reply": "2024-07-11T11:07:10.623964Z"
    },
    "papermill": {
     "duration": 17.562603,
     "end_time": "2024-07-11T11:07:10.628137",
     "exception": false,
     "start_time": "2024-07-11T11:06:53.065534",
     "status": "completed"
    },
    "tags": []
   },
   "outputs": [
    {
     "name": "stderr",
     "output_type": "stream",
     "text": [
      "2024-07-11 11:06:56.769351: E external/local_xla/xla/stream_executor/cuda/cuda_dnn.cc:9261] Unable to register cuDNN factory: Attempting to register factory for plugin cuDNN when one has already been registered\n",
      "2024-07-11 11:06:56.769504: E external/local_xla/xla/stream_executor/cuda/cuda_fft.cc:607] Unable to register cuFFT factory: Attempting to register factory for plugin cuFFT when one has already been registered\n",
      "2024-07-11 11:06:56.939269: E external/local_xla/xla/stream_executor/cuda/cuda_blas.cc:1515] Unable to register cuBLAS factory: Attempting to register factory for plugin cuBLAS when one has already been registered\n"
     ]
    }
   ],
   "source": [
    "import os\n",
    "import numpy as np\n",
    "from PIL import Image\n",
    "from sklearn.model_selection import train_test_split\n",
    "from tensorflow.keras.preprocessing.image import ImageDataGenerator\n",
    "\n",
    "# Paths to your data directories\n",
    "cracked_dir = '/kaggle/input/decksbridge/Decks/Cracked'\n",
    "non_cracked_dir = '/kaggle/input/decksbridge/Decks/Non-cracked'\n",
    "\n",
    "# Function to get image file paths\n",
    "def get_image_paths(folder, label):\n",
    "    image_paths = []\n",
    "    labels = []\n",
    "    for filename in os.listdir(folder):\n",
    "        if filename.endswith('.jpg'):\n",
    "            image_paths.append(os.path.join(folder, filename))\n",
    "            labels.append(label)\n",
    "    return image_paths, labels\n",
    "\n",
    "cracked_paths, cracked_labels = get_image_paths(cracked_dir, 1)  # 1 for cracked\n",
    "non_cracked_paths, non_cracked_labels = get_image_paths(non_cracked_dir, 0)  # 0 for non-cracked\n",
    "\n",
    "# Combine and split the data\n",
    "image_paths = np.array(cracked_paths + non_cracked_paths)\n",
    "labels = np.array(cracked_labels + non_cracked_labels)\n",
    "\n",
    "# Split data into training and testing sets\n",
    "X_train_paths, X_test_paths, y_train, y_test = train_test_split(image_paths, labels, test_size=0.2, random_state=42)\n",
    "\n",
    "# Data generator for loading images in batches\n",
    "def image_data_generator(image_paths, labels, batch_size, is_training=True):\n",
    "    while True:\n",
    "        idx = np.random.permutation(len(image_paths))\n",
    "        image_paths = image_paths[idx]\n",
    "        labels = labels[idx]\n",
    "        \n",
    "        for start in range(0, len(image_paths), batch_size):\n",
    "            end = min(start + batch_size, len(image_paths))\n",
    "            batch_paths = image_paths[start:end]\n",
    "            batch_labels = labels[start:end]\n",
    "            \n",
    "            images = []\n",
    "            for path in batch_paths:\n",
    "                img = Image.open(path)\n",
    "                img = img.resize((224, 224))  # Resize images to 224x224\n",
    "                img = np.array(img) / 255.0  # Normalize images\n",
    "                images.append(img)\n",
    "            \n",
    "            yield np.array(images), np.array(batch_labels)\n",
    "\n",
    "# Create data generators\n",
    "batch_size = 1024 # You can adjust this based on your available memory\n",
    "train_generator = image_data_generator(X_train_paths, y_train, batch_size)\n",
    "validation_generator = image_data_generator(X_test_paths, y_test, batch_size, is_training=False)"
   ]
  },
  {
   "cell_type": "code",
   "execution_count": 2,
   "id": "faaf490f",
   "metadata": {
    "execution": {
     "iopub.execute_input": "2024-07-11T11:07:10.636065Z",
     "iopub.status.busy": "2024-07-11T11:07:10.635264Z",
     "iopub.status.idle": "2024-07-11T11:58:48.503023Z",
     "shell.execute_reply": "2024-07-11T11:58:48.501293Z"
    },
    "papermill": {
     "duration": 3097.875041,
     "end_time": "2024-07-11T11:58:48.506240",
     "exception": false,
     "start_time": "2024-07-11T11:07:10.631199",
     "status": "completed"
    },
    "tags": []
   },
   "outputs": [
    {
     "name": "stdout",
     "output_type": "stream",
     "text": [
      "Downloading data from https://storage.googleapis.com/keras-applications/efficientnetb0_notop.h5\n",
      "\u001b[1m16705208/16705208\u001b[0m \u001b[32m━━━━━━━━━━━━━━━━━━━━\u001b[0m\u001b[37m\u001b[0m \u001b[1m1s\u001b[0m 0us/step\n",
      "Epoch 1/5\n",
      "\u001b[1m10/10\u001b[0m \u001b[32m━━━━━━━━━━━━━━━━━━━━\u001b[0m\u001b[37m\u001b[0m \u001b[1m673s\u001b[0m 68s/step - loss: 0.2319 - mae: 0.3191 - val_loss: 0.1295 - val_mae: 0.2958\n",
      "Epoch 2/5\n",
      "\u001b[1m10/10\u001b[0m \u001b[32m━━━━━━━━━━━━━━━━━━━━\u001b[0m\u001b[37m\u001b[0m \u001b[1m596s\u001b[0m 63s/step - loss: 0.1321 - mae: 0.2674 - val_loss: 0.1346 - val_mae: 0.2328\n",
      "Epoch 3/5\n",
      "\u001b[1m10/10\u001b[0m \u001b[32m━━━━━━━━━━━━━━━━━━━━\u001b[0m\u001b[37m\u001b[0m \u001b[1m600s\u001b[0m 61s/step - loss: 0.1273 - mae: 0.2528 - val_loss: 0.1338 - val_mae: 0.2201\n",
      "Epoch 4/5\n",
      "\u001b[1m10/10\u001b[0m \u001b[32m━━━━━━━━━━━━━━━━━━━━\u001b[0m\u001b[37m\u001b[0m \u001b[1m607s\u001b[0m 62s/step - loss: 0.1299 - mae: 0.2397 - val_loss: 0.1309 - val_mae: 0.2408\n",
      "Epoch 5/5\n",
      "\u001b[1m10/10\u001b[0m \u001b[32m━━━━━━━━━━━━━━━━━━━━\u001b[0m\u001b[37m\u001b[0m \u001b[1m598s\u001b[0m 61s/step - loss: 0.1236 - mae: 0.2492 - val_loss: 0.1229 - val_mae: 0.2182\n"
     ]
    },
    {
     "data": {
      "text/plain": [
       "<keras.src.callbacks.history.History at 0x785e082fecb0>"
      ]
     },
     "execution_count": 2,
     "metadata": {},
     "output_type": "execute_result"
    }
   ],
   "source": [
    "from tensorflow.keras.applications import EfficientNetB0\n",
    "from tensorflow.keras.models import Model\n",
    "from tensorflow.keras.layers import Dense, GlobalAveragePooling2D, Dropout\n",
    "from tensorflow.keras.optimizers import Adam\n",
    "from tensorflow.keras.callbacks import EarlyStopping\n",
    "\n",
    "# Define the model architecture\n",
    "base_model = EfficientNetB0(weights='imagenet', include_top=False, input_shape=(224, 224, 3))\n",
    "x = base_model.output\n",
    "x = GlobalAveragePooling2D()(x)\n",
    "x = Dense(1024, activation='relu')(x)\n",
    "x = Dropout(0.5)(x)\n",
    "x = Dense(512, activation='relu')(x)\n",
    "x = Dropout(0.5)(x)\n",
    "predictions = Dense(1, activation='linear')(x)  # Regression output\n",
    "\n",
    "model = Model(inputs=base_model.input, outputs=predictions)\n",
    "\n",
    "# Freeze the base model layers\n",
    "for layer in base_model.layers:\n",
    "    layer.trainable = False\n",
    "\n",
    "# Compile the model\n",
    "model.compile(optimizer=Adam(learning_rate=0.001), loss='mean_squared_error', metrics=['mae'])\n",
    "\n",
    "# Set up early stopping\n",
    "early_stopping = EarlyStopping(monitor='val_loss', patience=5, restore_best_weights=True)\n",
    "\n",
    "# Train the model using the generators with early stopping\n",
    "steps_per_epoch = len(X_train_paths) // batch_size\n",
    "validation_steps = len(X_test_paths) // batch_size\n",
    "\n",
    "model.fit(\n",
    "    train_generator,\n",
    "    steps_per_epoch=steps_per_epoch,\n",
    "    validation_data=validation_generator,\n",
    "    validation_steps=validation_steps,\n",
    "    epochs=5,  # Set a high number of epochs to allow for early stopping\n",
    "    callbacks=[early_stopping]\n",
    ")"
   ]
  },
  {
   "cell_type": "code",
   "execution_count": 3,
   "id": "67d90134",
   "metadata": {
    "execution": {
     "iopub.execute_input": "2024-07-11T11:58:48.532063Z",
     "iopub.status.busy": "2024-07-11T11:58:48.531586Z",
     "iopub.status.idle": "2024-07-11T11:58:51.355489Z",
     "shell.execute_reply": "2024-07-11T11:58:51.354298Z"
    },
    "papermill": {
     "duration": 2.840624,
     "end_time": "2024-07-11T11:58:51.358030",
     "exception": false,
     "start_time": "2024-07-11T11:58:48.517406",
     "status": "completed"
    },
    "tags": []
   },
   "outputs": [
    {
     "name": "stdout",
     "output_type": "stream",
     "text": [
      "\u001b[1m1/1\u001b[0m \u001b[32m━━━━━━━━━━━━━━━━━━━━\u001b[0m\u001b[37m\u001b[0m \u001b[1m3s\u001b[0m 3s/step\n",
      "Predicted remaining life of the bridge: 0.10663887858390808 years\n",
      "\u001b[1m1/1\u001b[0m \u001b[32m━━━━━━━━━━━━━━━━━━━━\u001b[0m\u001b[37m\u001b[0m \u001b[1m0s\u001b[0m 72ms/step\n",
      "Predicted remaining life of the bridge: 0.10664737969636917 years\n"
     ]
    }
   ],
   "source": [
    "def predict_remaining_life(image_path):\n",
    "    # Load and preprocess the image\n",
    "    img = Image.open(image_path)\n",
    "    img = img.resize((224, 224))\n",
    "    img = np.array(img) / 255.0\n",
    "    img = np.expand_dims(img, axis=0)  # Add batch dimension\n",
    "\n",
    "    # Predict the remaining life\n",
    "    remaining_life = model.predict(img)\n",
    "    return remaining_life[0][0]\n",
    "\n",
    "# Example usage\n",
    "image_path = '/kaggle/input/decksbridge/Decks/Cracked/7001-17.jpg'\n",
    "predicted_life = predict_remaining_life(image_path)\n",
    "print(f'Predicted remaining life of the bridge: {predicted_life} years')\n",
    "image_path = '/kaggle/input/decksbridge/Decks/Non-cracked/7001-107.jpg'\n",
    "predicted_life = predict_remaining_life(image_path)\n",
    "print(f'Predicted remaining life of the bridge: {predicted_life} years')"
   ]
  }
 ],
 "metadata": {
  "kaggle": {
   "accelerator": "none",
   "dataSources": [
    {
     "datasetId": 5371375,
     "sourceId": 8929254,
     "sourceType": "datasetVersion"
    }
   ],
   "dockerImageVersionId": 30732,
   "isGpuEnabled": false,
   "isInternetEnabled": true,
   "language": "python",
   "sourceType": "notebook"
  },
  "kernelspec": {
   "display_name": "Python 3",
   "language": "python",
   "name": "python3"
  },
  "language_info": {
   "codemirror_mode": {
    "name": "ipython",
    "version": 3
   },
   "file_extension": ".py",
   "mimetype": "text/x-python",
   "name": "python",
   "nbconvert_exporter": "python",
   "pygments_lexer": "ipython3",
   "version": "3.10.13"
  },
  "papermill": {
   "default_parameters": {},
   "duration": 3125.254903,
   "end_time": "2024-07-11T11:58:55.271975",
   "environment_variables": {},
   "exception": null,
   "input_path": "__notebook__.ipynb",
   "output_path": "__notebook__.ipynb",
   "parameters": {},
   "start_time": "2024-07-11T11:06:50.017072",
   "version": "2.5.0"
  }
 },
 "nbformat": 4,
 "nbformat_minor": 5
}
